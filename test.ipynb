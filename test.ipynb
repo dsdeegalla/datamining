# test file
# Sampath Deeegalla
# Nov 2018
# coding: utf-8

# # Cell Magics in IPython

# IPython has a system of commands we call 'magics' that provide a mini command language that is orthogonal to the syntax of Python and is extensible by the user with new commands.  Magics are meant to be typed interactively, so they use command-line conventions, such as using whitespace for separating arguments, dashes for options and other conventions typical of a command-line environment.
# 
# Magics come in two kinds:
# 
# * Line magics: these are commands prepended by one `%` character and whose arguments only extend to the end of the current line.
# * Cell magics: these use *two* percent characters as a marker (`%%`), and they receive as argument *both* the current line where they are declared and the whole body of the cell.  Note that cell magics can *only* be used as the first line in a cell, and as a general principle they can't be 'stacked' (i.e. you can only use one cell magic per cell).  A few of them, because of how they operate, can be stacked, but that is something you will discover on a case by case basis.
# 
# The `%lsmagic` magic is used to list all available magics, and it will show both line and cell magics currently defined:

# In[1]:


get_ipython().run_line_magic('lsmagic', '')


# Since in the introductory section we already covered the most frequently used line magics, we will focus here on the cell magics, which offer a great amount of power.
# 
# Let's load matplotlib and numpy so we can use numerics/plotting at will later on.

# In[2]:


get_ipython().run_line_magic('matplotlib', 'inline')
import numpy as np
import matplotlib.pyplot as plt


# ## <!--====--> Some simple cell magics

# Timing the execution of code; the 'timeit' magic exists both in line and cell form:

# In[3]:
# coding: utf-8

# <img src="../images/ipython_logo.png">

# Back to the main [Index](../Index.ipynb)

# # IPython Kernel

# IPython provides extensions to the Python programming language that make working interactively convenient and efficient. These extensions are implemented in the IPython Kernel and are available in all of the IPython Frontends (Notebook, Terminal, Console and Qt Console) when running this kernel.

# ## Tutorials

# * [Cell Magics](Cell Magics.ipynb)
# * [Script Magics](Script Magics.ipynb)
# * [Rich Output](Rich Output.ipynb)
# * [Custom Display Logic](Custom Display Logic.ipynb)
# * [Plotting in the Notebook](Plotting in the Notebook.ipynb)
# * [Capturing Output](Capturing Output.ipynb)

# ## Examples

# * [Background Jobs](Background Jobs.ipynb)
# * [Trapezoid Rule](Trapezoid Rule.ipynb)
# * [SymPy](SymPy.ipynb)
# * [Raw Input in the Notebook](Raw Input in the Notebook.ipynb)
# * [Importing Notebooks](Importing Notebooks.ipynb)

# ## Non-notebook examples

# This directory also contains examples that are regular Python (`.py`) files.

# In[1]:


get_ipython().run_line_magic('run', '../utils/list_pyfiles.ipy')


# There are also a set of examples that show how to integrate IPython with different GUI event loops:

# In[2]:


get_ipython().run_line_magic('run', '../utils/list_subdirs.ipy')
